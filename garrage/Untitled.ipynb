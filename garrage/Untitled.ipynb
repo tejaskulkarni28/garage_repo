{
 "cells": [
  {
   "cell_type": "code",
   "execution_count": null,
   "id": "d54274ed",
   "metadata": {},
   "outputs": [],
   "source": [
    "1234\n",
    "12\n",
    "23\n",
    "34\n",
    "def ss():\n",
    "    result={}\n",
    "    for i in range(len(numbers)):\n",
    "        print()"
   ]
  }
 ],
 "metadata": {
  "kernelspec": {
   "display_name": "Python 3 (ipykernel)",
   "language": "python",
   "name": "python3"
  },
  "language_info": {
   "codemirror_mode": {
    "name": "ipython",
    "version": 3
   },
   "file_extension": ".py",
   "mimetype": "text/x-python",
   "name": "python",
   "nbconvert_exporter": "python",
   "pygments_lexer": "ipython3",
   "version": "3.9.16"
  }
 },
 "nbformat": 4,
 "nbformat_minor": 5
}
